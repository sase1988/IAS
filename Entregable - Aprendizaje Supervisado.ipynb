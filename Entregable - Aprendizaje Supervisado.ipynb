{
 "cells": [
  {
   "cell_type": "code",
   "execution_count": 1,
   "metadata": {
    "id": "PaAEOYSTUd-W"
   },
   "outputs": [],
   "source": [
    "import numpy as np\n",
    "import pandas as pd\n",
    "import matplotlib.pyplot as plt\n",
    "import seaborn as sns"
   ]
  },
  {
   "cell_type": "code",
   "execution_count": 2,
   "metadata": {
    "colab": {
     "base_uri": "https://localhost:8080/",
     "height": 377
    },
    "id": "IXzj-EImUd-Y",
    "outputId": "308fe05c-f6b6-44c0-9427-7767e666acbb"
   },
   "outputs": [],
   "source": [
    "train_df = pd.read_csv(\"data/travel_insurance_prediction_train.csv\")\n",
    "#test_df = pd.read_csv(\"travel_insurance_prediction_test.csv\")"
   ]
  },
  {
   "cell_type": "markdown",
   "metadata": {
    "id": "Rd7hMCt5Ud-Z"
   },
   "source": [
    "# Exploracion del dataset"
   ]
  },
  {
   "cell_type": "code",
   "execution_count": 3,
   "metadata": {
    "colab": {
     "base_uri": "https://localhost:8080/",
     "height": 281
    },
    "id": "zfNG9DaWUd-Z",
    "outputId": "c9e3b98c-ff75-4409-89d0-417e549fbf33"
   },
   "outputs": [
    {
     "data": {
      "text/html": [
       "<div>\n",
       "<style scoped>\n",
       "    .dataframe tbody tr th:only-of-type {\n",
       "        vertical-align: middle;\n",
       "    }\n",
       "\n",
       "    .dataframe tbody tr th {\n",
       "        vertical-align: top;\n",
       "    }\n",
       "\n",
       "    .dataframe thead th {\n",
       "        text-align: right;\n",
       "    }\n",
       "</style>\n",
       "<table border=\"1\" class=\"dataframe\">\n",
       "  <thead>\n",
       "    <tr style=\"text-align: right;\">\n",
       "      <th></th>\n",
       "      <th>Customer</th>\n",
       "      <th>Age</th>\n",
       "      <th>Employment Type</th>\n",
       "      <th>GraduateOrNot</th>\n",
       "      <th>AnnualIncome</th>\n",
       "      <th>FamilyMembers</th>\n",
       "      <th>ChronicDiseases</th>\n",
       "      <th>FrequentFlyer</th>\n",
       "      <th>EverTravelledAbroad</th>\n",
       "      <th>TravelInsurance</th>\n",
       "    </tr>\n",
       "  </thead>\n",
       "  <tbody>\n",
       "    <tr>\n",
       "      <th>0</th>\n",
       "      <td>1</td>\n",
       "      <td>33</td>\n",
       "      <td>Private Sector/Self Employed</td>\n",
       "      <td>Yes</td>\n",
       "      <td>550000</td>\n",
       "      <td>6</td>\n",
       "      <td>0</td>\n",
       "      <td>No</td>\n",
       "      <td>No</td>\n",
       "      <td>1</td>\n",
       "    </tr>\n",
       "    <tr>\n",
       "      <th>1</th>\n",
       "      <td>2</td>\n",
       "      <td>28</td>\n",
       "      <td>Private Sector/Self Employed</td>\n",
       "      <td>Yes</td>\n",
       "      <td>800000</td>\n",
       "      <td>7</td>\n",
       "      <td>0</td>\n",
       "      <td>Yes</td>\n",
       "      <td>No</td>\n",
       "      <td>0</td>\n",
       "    </tr>\n",
       "    <tr>\n",
       "      <th>2</th>\n",
       "      <td>3</td>\n",
       "      <td>31</td>\n",
       "      <td>Private Sector/Self Employed</td>\n",
       "      <td>Yes</td>\n",
       "      <td>1250000</td>\n",
       "      <td>4</td>\n",
       "      <td>0</td>\n",
       "      <td>No</td>\n",
       "      <td>No</td>\n",
       "      <td>0</td>\n",
       "    </tr>\n",
       "  </tbody>\n",
       "</table>\n",
       "</div>"
      ],
      "text/plain": [
       "   Customer  Age               Employment Type GraduateOrNot  AnnualIncome  \\\n",
       "0         1   33  Private Sector/Self Employed           Yes        550000   \n",
       "1         2   28  Private Sector/Self Employed           Yes        800000   \n",
       "2         3   31  Private Sector/Self Employed           Yes       1250000   \n",
       "\n",
       "   FamilyMembers  ChronicDiseases FrequentFlyer EverTravelledAbroad  \\\n",
       "0              6                0            No                  No   \n",
       "1              7                0           Yes                  No   \n",
       "2              4                0            No                  No   \n",
       "\n",
       "   TravelInsurance  \n",
       "0                1  \n",
       "1                0  \n",
       "2                0  "
      ]
     },
     "execution_count": 3,
     "metadata": {},
     "output_type": "execute_result"
    }
   ],
   "source": [
    "train_df.head(3)"
   ]
  },
  {
   "cell_type": "code",
   "execution_count": null,
   "metadata": {
    "id": "iESnUH42Ud-b"
   },
   "outputs": [],
   "source": [
    "#test_df.head(3)"
   ]
  },
  {
   "cell_type": "markdown",
   "metadata": {
    "id": "tbNFDc3qUd-b"
   },
   "source": [
    "Comenzamos descartando la columna Customers, ya que es solo el id del cliente y no nos aporta información relevante al problema"
   ]
  },
  {
   "cell_type": "code",
   "execution_count": 4,
   "metadata": {
    "id": "CNgWsRbcUd-c"
   },
   "outputs": [],
   "source": [
    "train_df.drop(['Customer'], axis= 1, inplace=True)\n",
    "#test_df.drop(['Customer'], axis = 1, inplace=True)"
   ]
  },
  {
   "cell_type": "markdown",
   "metadata": {
    "id": "XrInlbrZUd-c"
   },
   "source": [
    "## Analizamos presencia de NaN y los valores de las columnas"
   ]
  },
  {
   "cell_type": "code",
   "execution_count": 5,
   "metadata": {
    "colab": {
     "base_uri": "https://localhost:8080/"
    },
    "id": "G9x-8YPZUd-d",
    "outputId": "647144fd-59ae-4c7c-8c9f-9fe1bbf1a9ad"
   },
   "outputs": [
    {
     "data": {
      "text/plain": [
       "Age                    0\n",
       "Employment Type        0\n",
       "GraduateOrNot          0\n",
       "AnnualIncome           0\n",
       "FamilyMembers          0\n",
       "ChronicDiseases        0\n",
       "FrequentFlyer          0\n",
       "EverTravelledAbroad    0\n",
       "TravelInsurance        0\n",
       "dtype: int64"
      ]
     },
     "execution_count": 5,
     "metadata": {},
     "output_type": "execute_result"
    }
   ],
   "source": [
    "train_df.isna().sum()"
   ]
  },
  {
   "cell_type": "code",
   "execution_count": 6,
   "metadata": {},
   "outputs": [
    {
     "data": {
      "text/plain": [
       "array(['Private Sector/Self Employed', 'Private Sector/Self Employed',\n",
       "       'Private Sector/Self Employed', ...,\n",
       "       'Private Sector/Self Employed', 'Government Sector',\n",
       "       'Private Sector/Self Employed'], dtype=object)"
      ]
     },
     "execution_count": 6,
     "metadata": {},
     "output_type": "execute_result"
    }
   ],
   "source": [
    "train_df['Employment Type'].values"
   ]
  },
  {
   "cell_type": "code",
   "execution_count": null,
   "metadata": {
    "id": "g_8G6gGkUd-d"
   },
   "outputs": [],
   "source": [
    "#test_df.isna().sum()"
   ]
  },
  {
   "cell_type": "code",
   "execution_count": 7,
   "metadata": {
    "colab": {
     "base_uri": "https://localhost:8080/",
     "height": 312
    },
    "id": "BIrh3tyEUd-e",
    "outputId": "b43a7eb9-6db1-447f-be46-815b69756bdc"
   },
   "outputs": [
    {
     "data": {
      "text/plain": [
       "<function matplotlib.pyplot.show(*args, **kw)>"
      ]
     },
     "execution_count": 7,
     "metadata": {},
     "output_type": "execute_result"
    },
    {
     "data": {
      "image/png": "[encoded data removed]",
      "text/plain": [
       "<Figure size 720x288 with 1 Axes>"
      ]
     },
     "metadata": {
      "needs_background": "light"
     },
     "output_type": "display_data"
    }
   ],
   "source": [
    "### Age\n",
    "plt.figure(figsize=(10,4))\n",
    "sns.boxplot(data=train_df, x=train_df.Age)\n",
    "plt.title('Distribución de Age')\n",
    "plt.show"
   ]
  },
  {
   "cell_type": "code",
   "execution_count": null,
   "metadata": {
    "colab": {
     "base_uri": "https://localhost:8080/",
     "height": 312
    },
    "id": "2NfKpOo7Ud-e",
    "outputId": "d7c6a7dc-e76f-4b60-e97e-f1f02205270f"
   },
   "outputs": [
    {
     "data": {
      "text/plain": [
       "<function matplotlib.pyplot.show>"
      ]
     },
     "execution_count": 10,
     "metadata": {
      "tags": []
     },
     "output_type": "execute_result"
    },
    {
     "data": {
      "image/png": "[encoded data removed]",
      "text/plain": [
       "<Figure size 720x288 with 1 Axes>"
      ]
     },
     "metadata": {
      "needs_background": "light",
      "tags": []
     },
     "output_type": "display_data"
    }
   ],
   "source": [
    "### Employment Type\n",
    "plt.figure(figsize=(10,4))\n",
    "sns.countplot(data=train_df, x=train_df['Employment Type'])\n",
    "plt.title('Distribución de Employment Type')\n",
    "plt.show"
   ]
  },
  {
   "cell_type": "code",
   "execution_count": null,
   "metadata": {
    "colab": {
     "base_uri": "https://localhost:8080/",
     "height": 312
    },
    "id": "RZgZLT-nUd-f",
    "outputId": "a3600023-ed7b-4600-db8b-748969a23be9"
   },
   "outputs": [
    {
     "data": {
      "text/plain": [
       "<function matplotlib.pyplot.show>"
      ]
     },
     "execution_count": 11,
     "metadata": {
      "tags": []
     },
     "output_type": "execute_result"
    },
    {
     "data": {
      "image/png": "[encoded data removed]",
      "text/plain": [
       "<Figure size 720x288 with 1 Axes>"
      ]
     },
     "metadata": {
      "needs_background": "light",
      "tags": []
     },
     "output_type": "display_data"
    }
   ],
   "source": [
    "### GraduateOrNot\n",
    "plt.figure(figsize=(10,4))\n",
    "sns.countplot(data=train_df, x=train_df['GraduateOrNot'])\n",
    "plt.title('Distribución de GraduateOrNot')\n",
    "plt.show"
   ]
  },
  {
   "cell_type": "code",
   "execution_count": null,
   "metadata": {
    "colab": {
     "base_uri": "https://localhost:8080/",
     "height": 312
    },
    "id": "kjKe95EvUd-g",
    "outputId": "5d1ae6e9-019e-4142-fdf2-d52176ed9e0c"
   },
   "outputs": [
    {
     "data": {
      "text/plain": [
       "<function matplotlib.pyplot.show>"
      ]
     },
     "execution_count": 12,
     "metadata": {
      "tags": []
     },
     "output_type": "execute_result"
    },
    {
     "data": {
      "image/png": "[encoded data removed]",
      "text/plain": [
       "<Figure size 720x288 with 1 Axes>"
      ]
     },
     "metadata": {
      "needs_background": "light",
      "tags": []
     },
     "output_type": "display_data"
    }
   ],
   "source": [
    "### Age\n",
    "plt.figure(figsize=(10,4))\n",
    "sns.boxplot(data=train_df, x=train_df['AnnualIncome'])\n",
    "plt.title('Distribución de AnnualIncome')\n",
    "plt.show"
   ]
  },
  {
   "cell_type": "code",
   "execution_count": null,
   "metadata": {
    "colab": {
     "base_uri": "https://localhost:8080/",
     "height": 312
    },
    "id": "EjSeMrFAUd-g",
    "outputId": "1b27c916-4113-4fca-ea88-9c07fd66db41"
   },
   "outputs": [
    {
     "data": {
      "text/plain": [
       "<function matplotlib.pyplot.show>"
      ]
     },
     "execution_count": 13,
     "metadata": {
      "tags": []
     },
     "output_type": "execute_result"
    },
    {
     "data": {
      "image/png": "[encoded data removed]",
      "text/plain": [
       "<Figure size 720x288 with 1 Axes>"
      ]
     },
     "metadata": {
      "needs_background": "light",
      "tags": []
     },
     "output_type": "display_data"
    }
   ],
   "source": [
    "### FamilyMembers\n",
    "plt.figure(figsize=(10,4))\n",
    "sns.countplot(data=train_df, x=train_df['FamilyMembers'])\n",
    "plt.title('Distribución de FamilyMembers')\n",
    "plt.show"
   ]
  },
  {
   "cell_type": "code",
   "execution_count": null,
   "metadata": {
    "colab": {
     "base_uri": "https://localhost:8080/",
     "height": 312
    },
    "id": "ipPr-7Z6Ud-h",
    "outputId": "77672dd9-6f20-4262-e1ca-aaf8b23fe4e9"
   },
   "outputs": [
    {
     "data": {
      "text/plain": [
       "<function matplotlib.pyplot.show>"
      ]
     },
     "execution_count": 14,
     "metadata": {
      "tags": []
     },
     "output_type": "execute_result"
    },
    {
     "data": {
      "image/png": "[encoded data removed]",
      "text/plain": [
       "<Figure size 720x288 with 1 Axes>"
      ]
     },
     "metadata": {
      "needs_background": "light",
      "tags": []
     },
     "output_type": "display_data"
    }
   ],
   "source": [
    "### ChronicDiseases\n",
    "plt.figure(figsize=(10,4))\n",
    "sns.countplot(data=train_df, x=train_df['ChronicDiseases'])\n",
    "plt.title('Distribución de ChronicDiseases')\n",
    "plt.show"
   ]
  },
  {
   "cell_type": "code",
   "execution_count": null,
   "metadata": {
    "colab": {
     "base_uri": "https://localhost:8080/",
     "height": 312
    },
    "id": "ATzSxIliUd-h",
    "outputId": "68a54eaa-8050-44a8-800c-a841a35bcba2"
   },
   "outputs": [
    {
     "data": {
      "text/plain": [
       "<function matplotlib.pyplot.show>"
      ]
     },
     "execution_count": 15,
     "metadata": {
      "tags": []
     },
     "output_type": "execute_result"
    },
    {
     "data": {
      "image/png": "[encoded data removed]",
      "text/plain": [
       "<Figure size 720x288 with 1 Axes>"
      ]
     },
     "metadata": {
      "needs_background": "light",
      "tags": []
     },
     "output_type": "display_data"
    }
   ],
   "source": [
    "### FrequentFlyer\n",
    "plt.figure(figsize=(10,4))\n",
    "sns.countplot(data=train_df, x=train_df['FrequentFlyer'])\n",
    "plt.title('Distribución de FrequentFlyer')\n",
    "plt.show"
   ]
  },
  {
   "cell_type": "code",
   "execution_count": null,
   "metadata": {
    "colab": {
     "base_uri": "https://localhost:8080/",
     "height": 312
    },
    "id": "6jlZR-IDUd-h",
    "outputId": "2e964835-7143-488e-977f-54773dcd42cd"
   },
   "outputs": [
    {
     "data": {
      "text/plain": [
       "<function matplotlib.pyplot.show>"
      ]
     },
     "execution_count": 16,
     "metadata": {
      "tags": []
     },
     "output_type": "execute_result"
    },
    {
     "data": {
      "image/png": "[encoded data removed]",
      "text/plain": [
       "<Figure size 720x288 with 1 Axes>"
      ]
     },
     "metadata": {
      "needs_background": "light",
      "tags": []
     },
     "output_type": "display_data"
    }
   ],
   "source": [
    "### EverTravelledAbroad\n",
    "plt.figure(figsize=(10,4))\n",
    "sns.countplot(data=train_df, x=train_df['EverTravelledAbroad'])\n",
    "plt.title('Distribución de EverTravelledAbroad')\n",
    "plt.show"
   ]
  },
  {
   "cell_type": "markdown",
   "metadata": {
    "id": "1ayHWP2FUd-i"
   },
   "source": [
    "No se presenta ningún valor NaN en ninguno de los datasets, ni tampoco observamos outliers en las distribuciones."
   ]
  },
  {
   "cell_type": "markdown",
   "metadata": {
    "id": "YeLZ3c7AUd-i"
   },
   "source": [
    "# Exploración de modelos"
   ]
  },
  {
   "cell_type": "code",
   "execution_count": 8,
   "metadata": {
    "id": "tSgGvYBEUd-i"
   },
   "outputs": [],
   "source": [
    "from sklearn.compose import make_column_transformer\n",
    "from sklearn.metrics import classification_report\n",
    "from sklearn.model_selection import GridSearchCV\n",
    "from sklearn.preprocessing import KBinsDiscretizer, OneHotEncoder"
   ]
  },
  {
   "cell_type": "markdown",
   "metadata": {
    "id": "PnL5jrSkUd-i"
   },
   "source": [
    "Aplicamos el siguiente *transformer* para genera **X_train**, **y_train** y **X_test**.  "
   ]
  },
  {
   "cell_type": "code",
   "execution_count": 134,
   "metadata": {
    "id": "hFxXm2MrUd-j"
   },
   "outputs": [],
   "source": [
    "transformer = make_column_transformer(\n",
    "    (KBinsDiscretizer(n_bins=5, encode=\"ordinal\", strategy=\"quantile\"), [\"Age\", \"AnnualIncome\"]),\n",
    "    (OneHotEncoder(categories=\"auto\", dtype=\"int\", handle_unknown=\"ignore\"),\n",
    "     [\"Employment Type\", \"GraduateOrNot\", \"FamilyMembers\", \"FrequentFlyer\", \"EverTravelledAbroad\"]),\n",
    "    remainder=\"passthrough\")\n",
    "\n",
    "\n",
    "# The data for training the model\n",
    "X_train = transformer.fit_transform(train_df.drop(columns=[\"TravelInsurance\"]))\n",
    "y_train = train_df[\"TravelInsurance\"].values\n",
    "\n",
    "# The test data is only for generating the submission\n",
    "#X_test = transformer.transform(test_df)"
   ]
  },
  {
   "cell_type": "code",
   "execution_count": 69,
   "metadata": {},
   "outputs": [
    {
     "data": {
      "text/plain": [
       "array([[4., 1., 0., ..., 1., 0., 0.],\n",
       "       [2., 2., 0., ..., 1., 0., 0.],\n",
       "       [3., 3., 0., ..., 1., 0., 0.],\n",
       "       ...,\n",
       "       [2., 3., 0., ..., 1., 0., 0.],\n",
       "       [3., 4., 1., ..., 1., 0., 0.],\n",
       "       [2., 1., 0., ..., 1., 0., 0.]])"
      ]
     },
     "execution_count": 69,
     "metadata": {},
     "output_type": "execute_result"
    }
   ],
   "source": [
    "X_train"
   ]
  },
  {
   "cell_type": "code",
   "execution_count": null,
   "metadata": {
    "id": "kOMLurZBUd-j"
   },
   "outputs": [],
   "source": [
    "### El baseline que tuvo el profe (mirando solo el macro avg f1 score) de 82.\n",
    "### Tenemos que superar eso!!!"
   ]
  },
  {
   "cell_type": "markdown",
   "metadata": {
    "id": "1ahoLQzbUd-j"
   },
   "source": [
    "## Random Forest"
   ]
  },
  {
   "cell_type": "code",
   "execution_count": 11,
   "metadata": {
    "id": "q_3ccDjVUd-j"
   },
   "outputs": [],
   "source": [
    "from sklearn.ensemble import RandomForestClassifier\n",
    "\n",
    "search_params = {\n",
    "    'n_estimators': [100, 200, 500, 1000],\n",
    "    'criterion': ['gini', 'entropy'],\n",
    "    'max_depth': [3, 6, 10, None],\n",
    "    'min_samples_split': [2, 3, 4],\n",
    "    'min_samples_leaf':[1,2,3]\n",
    "\n",
    "\n",
    "}\n",
    "forest = RandomForestClassifier(random_state=42)\n",
    "forest_clf = GridSearchCV(forest, search_params, cv=5, scoring='f1', n_jobs=-1)\n",
    "forest_clf.fit(X_train, y_train)\n",
    "\n",
    "best_forest_clf = forest_clf.best_estimator_"
   ]
  },
  {
   "cell_type": "code",
   "execution_count": 13,
   "metadata": {
    "colab": {
     "base_uri": "https://localhost:8080/"
    },
    "id": "ObFVPkF5Ud-k",
    "outputId": "d2e96df1-cb9e-467a-92db-d6d5a3003621"
   },
   "outputs": [
    {
     "data": {
      "text/plain": [
       "{'criterion': 'entropy',\n",
       " 'max_depth': None,\n",
       " 'min_samples_leaf': 1,\n",
       " 'min_samples_split': 4,\n",
       " 'n_estimators': 100}"
      ]
     },
     "execution_count": 13,
     "metadata": {},
     "output_type": "execute_result"
    }
   ],
   "source": [
    "forest_clf.best_params_"
   ]
  },
  {
   "cell_type": "code",
   "execution_count": 14,
   "metadata": {
    "colab": {
     "base_uri": "https://localhost:8080/"
    },
    "id": "FEAIy0AfUd-k",
    "outputId": "bb4413e8-5f56-422f-ed9c-d9e1158026c1"
   },
   "outputs": [
    {
     "name": "stdout",
     "output_type": "stream",
     "text": [
      "              precision    recall  f1-score   support\n",
      "\n",
      "           0       0.87      0.96      0.91       958\n",
      "           1       0.90      0.73      0.81       532\n",
      "\n",
      "    accuracy                           0.88      1490\n",
      "   macro avg       0.88      0.85      0.86      1490\n",
      "weighted avg       0.88      0.88      0.87      1490\n",
      "\n"
     ]
    }
   ],
   "source": [
    "print(classification_report(y_train, best_forest_clf.predict(X_train)))"
   ]
  },
  {
   "cell_type": "markdown",
   "metadata": {
    "id": "zVlsXLjSUd-k"
   },
   "source": [
    "## XGBoost"
   ]
  },
  {
   "cell_type": "code",
   "execution_count": null,
   "metadata": {
    "colab": {
     "base_uri": "https://localhost:8080/"
    },
    "id": "Vls48KUIUd-k",
    "outputId": "a007969a-b861-4bc1-c0ea-b9b925ca38cd"
   },
   "outputs": [
    {
     "name": "stdout",
     "output_type": "stream",
     "text": [
      "Requirement already satisfied: xgboost in /usr/local/lib/python3.7/dist-packages (0.90)\n",
      "Requirement already satisfied: numpy in /usr/local/lib/python3.7/dist-packages (from xgboost) (1.19.5)\n",
      "Requirement already satisfied: scipy in /usr/local/lib/python3.7/dist-packages (from xgboost) (1.4.1)\n"
     ]
    }
   ],
   "source": [
    "!pip install xgboost \n",
    "from xgboost import XGBClassifier\n",
    "\n",
    "search_params = {\n",
    "    'max_depth': [2,3,4,6,8,10],\n",
    "    'min_child_weight': [1,2,3,4,5],\n",
    "    'gamma':[0,0.1,0.2,0.3,0.4,0.5],\n",
    "    'subsample':[0.3,0.4,0.5,0.6,0.7,0.8,0.9,1],\n",
    "    'colsample_bytree':[0.4,0.5,0.6,0.7,0.8,0.9,1],\n",
    "    'reg_alpha':[1e-5,1e-3,0.01, 0.1, 1, 10, 100]\n",
    "\n",
    "\n",
    "}\n",
    "xgboost = XGBClassifier(learning_rate =0.1, n_estimators=1000, random_state=42)\n",
    "xgboost_clf = GridSearchCV(xgboost, search_params, cv=5, scoring='f1', n_jobs=-1)\n",
    "xgboost_clf.fit(X_train, y_train)\n",
    "\n",
    "best_xgboost_clf = xgboost_clf.best_estimator_"
   ]
  },
  {
   "cell_type": "code",
   "execution_count": null,
   "metadata": {
    "colab": {
     "base_uri": "https://localhost:8080/"
    },
    "id": "2NW2oeJGUd-l",
    "outputId": "27511b70-5d73-4bac-9912-cf7220238c55"
   },
   "outputs": [
    {
     "data": {
      "text/plain": [
       "{'colsample_bytree': 0.9,\n",
       " 'gamma': 0.3,\n",
       " 'max_depth': 3,\n",
       " 'min_child_weight': 1,\n",
       " 'reg_alpha': 0.01,\n",
       " 'subsample': 0.9}"
      ]
     },
     "execution_count": 24,
     "metadata": {
      "tags": []
     },
     "output_type": "execute_result"
    }
   ],
   "source": [
    "xgboost_clf.best_params_"
   ]
  },
  {
   "cell_type": "code",
   "execution_count": null,
   "metadata": {
    "colab": {
     "base_uri": "https://localhost:8080/"
    },
    "id": "Ypb7ZHoDUd-l",
    "outputId": "507906b2-09c1-465e-b2f7-607278dbf61e"
   },
   "outputs": [
    {
     "name": "stdout",
     "output_type": "stream",
     "text": [
      "              precision    recall  f1-score   support\n",
      "\n",
      "           0       0.82      0.96      0.88       958\n",
      "           1       0.90      0.62      0.73       532\n",
      "\n",
      "    accuracy                           0.84      1490\n",
      "   macro avg       0.86      0.79      0.81      1490\n",
      "weighted avg       0.85      0.84      0.83      1490\n",
      "\n"
     ]
    }
   ],
   "source": [
    "print(classification_report(y_train, best_xgboost_clf.predict(X_train)))"
   ]
  },
  {
   "cell_type": "code",
   "execution_count": 137,
   "metadata": {},
   "outputs": [
    {
     "name": "stderr",
     "output_type": "stream",
     "text": [
      "/home/sseppi/.local/lib/python3.8/site-packages/xgboost/sklearn.py:1146: UserWarning: The use of label encoder in XGBClassifier is deprecated and will be removed in a future release. To remove this warning, do the following: 1) Pass option use_label_encoder=False when constructing XGBClassifier object; and 2) Encode your labels (y) as integers starting with 0, i.e. 0, 1, 2, ..., [num_class - 1].\n",
      "  warnings.warn(label_encoder_deprecation_msg, UserWarning)\n"
     ]
    },
    {
     "name": "stdout",
     "output_type": "stream",
     "text": [
      "[11:46:49] WARNING: ../src/learner.cc:1095: Starting in XGBoost 1.3.0, the default evaluation metric used with the objective 'binary:logistic' was changed from 'error' to 'logloss'. Explicitly set eval_metric if you'd like to restore the old behavior.\n"
     ]
    },
    {
     "ename": "AttributeError",
     "evalue": "'GridSearchCV' object has no attribute 'best_estimator'",
     "output_type": "error",
     "traceback": [
      "\u001b[0;31m---------------------------------------------------------------------------\u001b[0m",
      "\u001b[0;31mAttributeError\u001b[0m                            Traceback (most recent call last)",
      "\u001b[0;32m<ipython-input-137-9ff4531fa8d5>\u001b[0m in \u001b[0;36m<module>\u001b[0;34m\u001b[0m\n\u001b[1;32m     16\u001b[0m \u001b[0mxgboost_clf\u001b[0m\u001b[0;34m.\u001b[0m\u001b[0mfit\u001b[0m\u001b[0;34m(\u001b[0m\u001b[0mX_train\u001b[0m\u001b[0;34m,\u001b[0m \u001b[0my_train\u001b[0m\u001b[0;34m)\u001b[0m\u001b[0;34m\u001b[0m\u001b[0;34m\u001b[0m\u001b[0m\n\u001b[1;32m     17\u001b[0m \u001b[0;34m\u001b[0m\u001b[0m\n\u001b[0;32m---> 18\u001b[0;31m \u001b[0mbest_xgboost_clf\u001b[0m \u001b[0;34m=\u001b[0m \u001b[0mxgboost_clf\u001b[0m\u001b[0;34m.\u001b[0m\u001b[0mbest_estimator\u001b[0m\u001b[0;34m\u001b[0m\u001b[0;34m\u001b[0m\u001b[0m\n\u001b[0m",
      "\u001b[0;31mAttributeError\u001b[0m: 'GridSearchCV' object has no attribute 'best_estimator'"
     ]
    }
   ],
   "source": [
    "#Probamos tunear la tasa de aprendizaje poniendo fijos los parámetros optimos\n",
    "\n",
    "from xgboost import XGBClassifier\n",
    "search_params = {'learning_rate' : [0.05, 0.1, 0.15, 0.2, 0.25,0.3]}\n",
    "\n",
    "xgboost = XGBClassifier(colsample_bytree = 0.9,\n",
    "                        gamma = 0.3,\n",
    "                        max_depth = 3,\n",
    "                        min_child_weight = 1,\n",
    "                        reg_alpha = 0.01,\n",
    "                        subsample = 0.9,\n",
    "                        n_estimators = 1000,\n",
    "                        random_state=42)\n",
    "\n",
    "xgboost_clf = GridSearchCV(xgboost, search_params, cv=5, scoring='f1', n_jobs=-1)\n",
    "xgboost_clf.fit(X_train, y_train)\n",
    "\n",
    "best_xgboost_clf = xgboost_clf.best_estimator_"
   ]
  },
  {
   "cell_type": "code",
   "execution_count": 139,
   "metadata": {},
   "outputs": [
    {
     "data": {
      "text/plain": [
       "{'learning_rate': 0.05}"
      ]
     },
     "execution_count": 139,
     "metadata": {},
     "output_type": "execute_result"
    }
   ],
   "source": [
    "best_xgboost_clf = xgboost_clf.best_estimator_\n",
    "xgboost_clf.best_params_"
   ]
  },
  {
   "cell_type": "code",
   "execution_count": 140,
   "metadata": {},
   "outputs": [
    {
     "name": "stdout",
     "output_type": "stream",
     "text": [
      "              precision    recall  f1-score   support\n",
      "\n",
      "           0       0.83      0.96      0.89       958\n",
      "           1       0.90      0.64      0.75       532\n",
      "\n",
      "    accuracy                           0.85      1490\n",
      "   macro avg       0.86      0.80      0.82      1490\n",
      "weighted avg       0.85      0.85      0.84      1490\n",
      "\n"
     ]
    }
   ],
   "source": [
    "print(classification_report(y_train, best_xgboost_clf.predict(X_train)))"
   ]
  },
  {
   "cell_type": "code",
   "execution_count": null,
   "metadata": {},
   "outputs": [],
   "source": [
    "#Probamos tunear todo junto, a ver si encuentra algo distinto\n",
    "\n",
    "search_params = {\n",
    "    'max_depth': [2,3,4,6,8,10],\n",
    "    'min_child_weight': [1,2,3,4,5],\n",
    "    'gamma':[0,0.1,0.2,0.3,0.4,0.5],\n",
    "    'subsample':[0.3,0.4,0.5,0.6,0.7,0.8,0.9,1],\n",
    "    'colsample_bytree':[0.4,0.5,0.6,0.7,0.8,0.9,1],\n",
    "    'reg_alpha':[1e-5,1e-3,0.01, 0.1, 1, 10, 100],\n",
    "    'learning_rate' : [0.05, 0.1, 0.15, 0.2, 0.25,0.3]\n",
    "\n",
    "\n",
    "}\n",
    "xgboost = XGBClassifier(n_estimators=1000, random_state=42)\n",
    "xgboost_clf = GridSearchCV(xgboost, search_params, cv=5, scoring='f1', n_jobs=-1)\n",
    "xgboost_clf.fit(X_train, y_train)\n",
    "\n",
    "best_xgboost_clf = xgboost_clf.best_estimator_"
   ]
  },
  {
   "cell_type": "markdown",
   "metadata": {
    "id": "Eme46aKAUd-l"
   },
   "source": [
    "## Bagging"
   ]
  },
  {
   "cell_type": "code",
   "execution_count": null,
   "metadata": {
    "id": "ppEe5xXcUd-l"
   },
   "outputs": [],
   "source": [
    "from sklearn.ensemble import BaggingClassifier\n",
    "from sklearn.neighbors import KNeighborsClassifier\n",
    "#bagging = BaggingClassifier(KNeighborsClassifier(),max_samples=0.5, max_features=0.5)\n",
    "\n",
    "search_params = {\n",
    "    'base_estimator__n_neighbors' : [4,5,6,7, 10],\n",
    "    'base_estimator__weights': ['uniform', 'distance'],\n",
    "    'base_estimator__algorithm': ['ball_tree', 'kd_tree', 'brute'],\n",
    "    'base_estimator__p': [1,2],\n",
    "    'n_estimators' : [10, 50, 100, 200],\n",
    "    'max_samples' : [ 0.5, 0.6, 0.7,0.8],\n",
    "    'max_features': [0.5, 0.6,0.7,0.8,0.9]\n",
    "}\n",
    "\n",
    "bagging_clf = GridSearchCV(BaggingClassifier(KNeighborsClassifier(), random_state = 42), search_params, cv=5, scoring='f1', n_jobs=-1)\n",
    "bagging_clf.fit(X_train, y_train)\n",
    "\n",
    "best_bagging_clf = bagging_clf.best_estimator_"
   ]
  },
  {
   "cell_type": "code",
   "execution_count": null,
   "metadata": {
    "colab": {
     "base_uri": "https://localhost:8080/"
    },
    "id": "Wai2a7_SUd-l",
    "outputId": "c8c7347f-e71d-4765-bed8-21c9706182b0"
   },
   "outputs": [
    {
     "data": {
      "text/plain": [
       "{'base_estimator__algorithm': 'ball_tree',\n",
       " 'base_estimator__n_neighbors': 4,\n",
       " 'base_estimator__p': 2,\n",
       " 'base_estimator__weights': 'distance',\n",
       " 'max_features': 0.9,\n",
       " 'max_samples': 0.8,\n",
       " 'n_estimators': 50}"
      ]
     },
     "execution_count": 26,
     "metadata": {
      "tags": []
     },
     "output_type": "execute_result"
    }
   ],
   "source": [
    "bagging_clf.best_params_"
   ]
  },
  {
   "cell_type": "code",
   "execution_count": null,
   "metadata": {
    "colab": {
     "base_uri": "https://localhost:8080/"
    },
    "id": "SoC0R-GmUd-m",
    "outputId": "3da19e5c-b201-4d8e-cfd2-069f333b8951"
   },
   "outputs": [
    {
     "name": "stdout",
     "output_type": "stream",
     "text": [
      "              precision    recall  f1-score   support\n",
      "\n",
      "           0       0.87      0.97      0.91       958\n",
      "           1       0.93      0.73      0.82       532\n",
      "\n",
      "    accuracy                           0.88      1490\n",
      "   macro avg       0.90      0.85      0.87      1490\n",
      "weighted avg       0.89      0.88      0.88      1490\n",
      "\n"
     ]
    }
   ],
   "source": [
    "print(classification_report(y_train, best_bagging_clf.predict(X_train)))"
   ]
  },
  {
   "cell_type": "raw",
   "metadata": {
    "id": "Uq65nkXLd172"
   },
   "source": [
    "## SVM"
   ]
  },
  {
   "cell_type": "markdown",
   "metadata": {},
   "source": [
    "Primero le hacemos un escalado a las variables numéricas dentro a X_Train, ya que SVM lo necesita asi"
   ]
  },
  {
   "cell_type": "code",
   "execution_count": 126,
   "metadata": {},
   "outputs": [],
   "source": [
    "from sklearn.preprocessing import MinMaxScaler\n",
    "from sklearn.preprocessing import StandardScaler\n",
    "3\n",
    "\n",
    "scaler = StandardScaler()\n",
    "\n",
    "X_train_svm = scaler.fit_transform(X_train)"
   ]
  },
  {
   "cell_type": "code",
   "execution_count": 127,
   "metadata": {},
   "outputs": [],
   "source": [
    "from sklearn import svm"
   ]
  },
  {
   "cell_type": "markdown",
   "metadata": {},
   "source": [
    "**Probamos LinearSVC**"
   ]
  },
  {
   "cell_type": "code",
   "execution_count": 128,
   "metadata": {},
   "outputs": [],
   "source": [
    "search_params = {'C': [0.01,0.1,1,10], 'loss':['hinge', 'squared_hinge'], 'class_weight' : [None, 'balanced']}\n",
    "svm_clf = GridSearchCV(svm.LinearSVC(random_state = 42), search_params, cv=5, scoring='f1', n_jobs=-1) "
   ]
  },
  {
   "cell_type": "code",
   "execution_count": 129,
   "metadata": {},
   "outputs": [
    {
     "data": {
      "text/plain": [
       "{'C': 0.01, 'class_weight': 'balanced', 'loss': 'squared_hinge'}"
      ]
     },
     "execution_count": 129,
     "metadata": {},
     "output_type": "execute_result"
    }
   ],
   "source": [
    "svm_clf.fit(X_train_svm, y_train)\n",
    "best_svm_clf = svm_clf.best_estimator_\n",
    "svm_clf.best_params_"
   ]
  },
  {
   "cell_type": "code",
   "execution_count": 130,
   "metadata": {},
   "outputs": [
    {
     "name": "stdout",
     "output_type": "stream",
     "text": [
      "              precision    recall  f1-score   support\n",
      "\n",
      "           0       0.80      0.82      0.81       958\n",
      "           1       0.65      0.62      0.64       532\n",
      "\n",
      "    accuracy                           0.75      1490\n",
      "   macro avg       0.72      0.72      0.72      1490\n",
      "weighted avg       0.75      0.75      0.75      1490\n",
      "\n"
     ]
    }
   ],
   "source": [
    "print(classification_report(y_train, best_svm_clf.predict(X_train_svm)))"
   ]
  },
  {
   "cell_type": "markdown",
   "metadata": {},
   "source": [
    "**Probamos SVC**"
   ]
  },
  {
   "cell_type": "code",
   "execution_count": 131,
   "metadata": {},
   "outputs": [],
   "source": [
    "search_params = {'C': [0.01,0.1,1,10],'kernel' : ['linear', 'poly', 'rbf', 'sigmoid'] ,\n",
    "                 'class_weight' : [None, 'balanced'], 'shrinking' : [True , False]}\n",
    "\n",
    "svm_clf = GridSearchCV(svm.SVC(random_state = 42), search_params, cv=5, scoring='f1', n_jobs=-1)\n",
    "svm_clf.fit(X_train_svm, y_train)\n",
    "best_svm_clf = svm_clf.best_estimator_"
   ]
  },
  {
   "cell_type": "code",
   "execution_count": 132,
   "metadata": {},
   "outputs": [
    {
     "data": {
      "text/plain": [
       "{'C': 10, 'class_weight': None, 'kernel': 'rbf', 'shrinking': True}"
      ]
     },
     "execution_count": 132,
     "metadata": {},
     "output_type": "execute_result"
    }
   ],
   "source": [
    "svm_clf.best_params_"
   ]
  },
  {
   "cell_type": "code",
   "execution_count": 133,
   "metadata": {},
   "outputs": [
    {
     "name": "stdout",
     "output_type": "stream",
     "text": [
      "              precision    recall  f1-score   support\n",
      "\n",
      "           0       0.83      0.97      0.89       958\n",
      "           1       0.91      0.65      0.76       532\n",
      "\n",
      "    accuracy                           0.85      1490\n",
      "   macro avg       0.87      0.81      0.83      1490\n",
      "weighted avg       0.86      0.85      0.85      1490\n",
      "\n"
     ]
    }
   ],
   "source": [
    "print(classification_report(y_train, best_svm_clf.predict(X_train_svm)))"
   ]
  },
  {
   "cell_type": "markdown",
   "metadata": {},
   "source": [
    "### Conclusiones\n",
    "\n",
    "Realizamos pruebas con búsqueda de hiperparámetros con los siguientes modelos:\n",
    "\n",
    "- Random Forest  \n",
    "- XGBoost\n",
    "- Bagging de KNN  \n",
    "- SVM: Linear SVC y SVC  \n",
    "\n",
    "Obtuvimos los siguientes Macro. Averages:\n",
    "\n",
    "- SVC 0.83  \n",
    "- Linear SVC 0.72  \n",
    "- Bagging 0.87  \n",
    "- XGBoost 0.82  \n",
    "- Random Forest 0.86  \n",
    "\n",
    "Observamos que los mejores resultados dentro de los modelos testeados se lograron con:\n",
    "\n",
    "1) Bagging, usando los siguientes hiperparámetros:\n",
    "\n",
    "    {'base_estimator__algorithm': 'ball_tree',\n",
    "     'base_estimator__n_neighbors': 4,\n",
    "     'base_estimator__p': 2,\n",
    "     'base_estimator__weights': 'distance',\n",
    "     'max_features': 0.9,\n",
    "     'max_samples': 0.8,\n",
    "     'n_estimators': 50}\n",
    "     \n",
    "2) Random Forest, usando los siguientes hiperparámetros:\n",
    "\n",
    "    {'criterion': 'entropy',\n",
    "     'max_depth': None,\n",
    "     'min_samples_leaf': 1,\n",
    "     'min_samples_split': 4,\n",
    "     'n_estimators': 100}\n",
    "     \n",
    "\n",
    "Estos resultados son muy buenos, pero es probable que exista _overfitting_ sobre los datos de entrenamiento. Es por ello que es necesario calcular las métricas de error contratando contra el conjunto de Test, al cual en este caso particular no tuvimos acceso."
   ]
  }
 ],
 "metadata": {
  "colab": {
   "collapsed_sections": [],
   "name": "exploration.ipynb",
   "provenance": []
  },
  "interpreter": {
   "hash": "6cd62e069dcee79c1ba434620e33160caeda2b48db7484946e65d377bb1e767a"
  },
  "kernelspec": {
   "display_name": "Python 3",
   "language": "python",
   "name": "python3"
  },
  "language_info": {
   "codemirror_mode": {
    "name": "ipython",
    "version": 3
   },
   "file_extension": ".py",
   "mimetype": "text/x-python",
   "name": "python",
   "nbconvert_exporter": "python",
   "pygments_lexer": "ipython3",
   "version": "3.8.10"
  }
 },
 "nbformat": 4,
 "nbformat_minor": 1
}
